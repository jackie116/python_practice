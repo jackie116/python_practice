{
 "metadata": {
  "language_info": {
   "codemirror_mode": {
    "name": "ipython",
    "version": 3
   },
   "file_extension": ".py",
   "mimetype": "text/x-python",
   "name": "python",
   "nbconvert_exporter": "python",
   "pygments_lexer": "ipython3",
   "version": "3.8.3-final"
  },
  "orig_nbformat": 2,
  "kernelspec": {
   "name": "python3",
   "display_name": "Python 3"
  }
 },
 "nbformat": 4,
 "nbformat_minor": 2,
 "cells": [
  {
   "cell_type": "code",
   "execution_count": 159,
   "metadata": {},
   "outputs": [],
   "source": [
    "import numpy as np\n",
    "import pandas as pd\n",
    "import re\n",
    "import openpyxl"
   ]
  },
  {
   "cell_type": "code",
   "execution_count": 160,
   "metadata": {},
   "outputs": [],
   "source": [
    "power_csv_address=r\"C:\\Users\\jackiehuang\\Desktop\\power\\a.csv\"\n",
    "sar_record_address=r\"C:\\Users\\jackiehuang\\Desktop\\power\\SAR Test Record_20201113 (Version405).xlsm\"\n",
    "output_address=r\"test.xlsm\"\n",
    "#raw_stop 要加一\n",
    "raw_start,raw_stop=25,36"
   ]
  },
  {
   "source": [
    "### 讀power csv"
   ],
   "cell_type": "markdown",
   "metadata": {}
  },
  {
   "cell_type": "code",
   "execution_count": 161,
   "metadata": {},
   "outputs": [],
   "source": [
    "df=pd.read_csv(power_csv_address,header=None)"
   ]
  },
  {
   "source": [
    "### 顯示表格全部資料(完成可刪)"
   ],
   "cell_type": "markdown",
   "metadata": {}
  },
  {
   "cell_type": "code",
   "execution_count": 162,
   "metadata": {},
   "outputs": [],
   "source": [
    "#pd.set_option('display.max_columns',None)\n",
    "#pd.set_option('display.max_rows', None)\n",
    "pd.set_option('display.max_columns', None)\n",
    "#pd.set_option('display.width', None)\n",
    "#pd.set_option('display.max_colwidth', -1)"
   ]
  },
  {
   "source": [
    "### 清掉空欄位"
   ],
   "cell_type": "markdown",
   "metadata": {}
  },
  {
   "cell_type": "code",
   "execution_count": 163,
   "metadata": {},
   "outputs": [],
   "source": [
    "df.dropna(axis=1,how='all',inplace=True)\n",
    "df.reset_index(drop=True,inplace=True)"
   ]
  },
  {
   "source": [
    "### 加上行名"
   ],
   "cell_type": "markdown",
   "metadata": {}
  },
  {
   "cell_type": "code",
   "execution_count": 164,
   "metadata": {},
   "outputs": [],
   "source": [
    "df.columns=['System Judgement','Band','Test Item', 'Ch', 'Cell Power', 'Lower', 'Upper', 'Unit', 'Result', 'Pass']"
   ]
  },
  {
   "source": [
    "### 切出BW, Modulation, RB size, RB offset"
   ],
   "cell_type": "markdown",
   "metadata": {}
  },
  {
   "cell_type": "code",
   "execution_count": 165,
   "metadata": {},
   "outputs": [],
   "source": [
    "def split_Test_Item(n,i):\n",
    "    pattern=r\".*;(.*);(.*)\\((\\d*)@(\\d*)\\)\"\n",
    "    m=re.match(pattern,n)\n",
    "    return m.group(i)"
   ]
  },
  {
   "cell_type": "code",
   "execution_count": 166,
   "metadata": {},
   "outputs": [],
   "source": [
    "df['BW']=df['Test Item'].apply(split_Test_Item, args=(1,))\n",
    "df['Modulation']=df['Test Item'].apply(split_Test_Item, args=(2,))\n",
    "df['RB size']=df['Test Item'].apply(split_Test_Item, args=(3,))\n",
    "df['RB offset']=df['Test Item'].apply(split_Test_Item, args=(4,))"
   ]
  },
  {
   "source": [
    "### 建立df_sar"
   ],
   "cell_type": "markdown",
   "metadata": {}
  },
  {
   "cell_type": "code",
   "execution_count": 167,
   "metadata": {},
   "outputs": [],
   "source": [
    "df_sar= pd.DataFrame()"
   ]
  },
  {
   "source": [
    "### 開報告excel"
   ],
   "cell_type": "markdown",
   "metadata": {}
  },
  {
   "cell_type": "code",
   "execution_count": 168,
   "metadata": {},
   "outputs": [],
   "source": [
    "wb=openpyxl.load_workbook(sar_record_address, keep_vba=True)"
   ]
  },
  {
   "cell_type": "code",
   "execution_count": 169,
   "metadata": {},
   "outputs": [],
   "source": [
    "sheet=wb['SAR']"
   ]
  },
  {
   "cell_type": "code",
   "execution_count": 170,
   "metadata": {},
   "outputs": [],
   "source": [
    "for i in range(raw_start,raw_stop):\n",
    "    df_sar=df_sar.append([[sheet[f'B{i}'].value, sheet[f'C{i}'].value, sheet[f'D{i}'].value, sheet[f'E{i}'].value, sheet[f'F{i}'].value, sheet[f'N{i}'].value]])"
   ]
  },
  {
   "cell_type": "code",
   "execution_count": 171,
   "metadata": {},
   "outputs": [],
   "source": [
    "df_sar.columns=['Band','BW','Modulation','RB size','RB offset','Ch']\n",
    "df_sar.reset_index(drop=True,inplace=True)"
   ]
  },
  {
   "source": [
    "### modulation 切-PRB"
   ],
   "cell_type": "markdown",
   "metadata": {}
  },
  {
   "cell_type": "code",
   "execution_count": 172,
   "metadata": {},
   "outputs": [],
   "source": [
    "def split_modulation(x):\n",
    "    result=x.split('-')\n",
    "    return result[0]"
   ]
  },
  {
   "cell_type": "code",
   "execution_count": 173,
   "metadata": {},
   "outputs": [],
   "source": [
    "df['Modulation']=df['Modulation'].apply(split_modulation)"
   ]
  },
  {
   "source": [
    "### 切band"
   ],
   "cell_type": "markdown",
   "metadata": {}
  },
  {
   "cell_type": "code",
   "execution_count": 174,
   "metadata": {},
   "outputs": [],
   "source": [
    "def split_band(x):\n",
    "    result=x.split()\n",
    "    return result[2]"
   ]
  },
  {
   "cell_type": "code",
   "execution_count": 175,
   "metadata": {},
   "outputs": [],
   "source": [
    "df_sar['Band']=df_sar['Band'].apply(split_band)"
   ]
  },
  {
   "source": [
    "### BW加HZ"
   ],
   "cell_type": "markdown",
   "metadata": {}
  },
  {
   "cell_type": "code",
   "execution_count": 176,
   "metadata": {},
   "outputs": [],
   "source": [
    "df_sar['BW']=df_sar['BW'].map(lambda x:x+'HZ')"
   ]
  },
  {
   "source": [
    "### 合併"
   ],
   "cell_type": "markdown",
   "metadata": {}
  },
  {
   "cell_type": "code",
   "execution_count": 177,
   "metadata": {},
   "outputs": [],
   "source": [
    "df_merge=pd.merge(df_sar.astype(str),df.astype(str),how='left',on=['Band','BW','Modulation','RB size','RB offset','Ch'])"
   ]
  },
  {
   "source": [
    "### 填值"
   ],
   "cell_type": "markdown",
   "metadata": {}
  },
  {
   "cell_type": "code",
   "execution_count": 178,
   "metadata": {},
   "outputs": [],
   "source": [
    "for i in range(raw_start,raw_stop):\n",
    "    sheet[f'R{i}']=df_merge['Result'][i-raw_start]"
   ]
  },
  {
   "source": [
    "### 存檔(要3-5minute，我想想)"
   ],
   "cell_type": "markdown",
   "metadata": {}
  },
  {
   "cell_type": "code",
   "execution_count": 179,
   "metadata": {},
   "outputs": [],
   "source": [
    "wb.save(output_address)"
   ]
  },
  {
   "cell_type": "code",
   "execution_count": null,
   "metadata": {},
   "outputs": [],
   "source": []
  }
 ]
}