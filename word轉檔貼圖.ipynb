{
 "metadata": {
  "language_info": {
   "codemirror_mode": {
    "name": "ipython",
    "version": 3
   },
   "file_extension": ".py",
   "mimetype": "text/x-python",
   "name": "python",
   "nbconvert_exporter": "python",
   "pygments_lexer": "ipython3",
   "version": "3.8.5-final"
  },
  "orig_nbformat": 2,
  "kernelspec": {
   "name": "Python 3.8.5 32-bit",
   "display_name": "Python 3.8.5 32-bit",
   "metadata": {
    "interpreter": {
     "hash": "2ec4dbb89c2357ba3070850d0d05a1c6e4c340381c7e77478e8d14b633bca211"
    }
   }
  }
 },
 "nbformat": 4,
 "nbformat_minor": 2,
 "cells": [
  {
   "source": [
    "## doc批量轉docx"
   ],
   "cell_type": "markdown",
   "metadata": {}
  },
  {
   "cell_type": "code",
   "execution_count": null,
   "metadata": {
    "tags": []
   },
   "outputs": [],
   "source": [
    "from win32com.client import Dispatch\n",
    "from os import walk\n",
    "\n",
    "def doc2docx(input_file):\n",
    "    word = Dispatch('Word.Application')\n",
    "    doc = word.Documents.Open(input_file)\n",
    "    doc.SaveAs(input_file.replace(\".doc\", \".docx\"),FileFormat=12)\n",
    "    doc.Close()\n",
    "    word.Quit()\n",
    "\n",
    "def find_doc(path):\n",
    "    for root, dirs, filenames in walk(path):\n",
    "        for filename in filenames:\n",
    "            #if filename.endswith((\".doc\",\".docx\")):\n",
    "            if filename.endswith(\".doc\"):\n",
    "                doc2docx(str(root + \"\\\\\" + filename))\n",
    "\n",
    "if __name__ == \"__main__\":\n",
    "    directory = \"C:\\\\Users\\\\jackiehuang\\\\Desktop\\\\test\"\n",
    "    find_doc(directory)"
   ]
  },
  {
   "source": [
    "## 插簽名"
   ],
   "cell_type": "markdown",
   "metadata": {}
  },
  {
   "cell_type": "code",
   "execution_count": 2,
   "metadata": {
    "tags": []
   },
   "outputs": [],
   "source": [
    "import docx\n",
    "from docx.shared import Inches\n",
    "from os import walk\n",
    "\n",
    "def doc_add_pic(input_file):\n",
    "    doc=docx.Document(input_file)\n",
    "    para_sign=doc.tables[0].rows[2].cells[0].add_paragraph()\n",
    "    r=para_sign.add_run()\n",
    "    r.add_picture('C:\\\\Users\\\\jackiehuang\\\\Desktop\\\\test_1\\\\Tommy_Lee.png',width=Inches(1.5))\n",
    "    doc.save(input_file)\n",
    "\n",
    "def find_doc(path):\n",
    "    for root, dirs, filenames in walk(path):\n",
    "        for filename in filenames:\n",
    "            if filename.endswith(\".docx\"):\n",
    "                doc_add_pic(str(root + \"\\\\\" + filename))\n",
    "\n",
    "if __name__ == \"__main__\":\n",
    "    directory = \"C:\\\\Users\\\\jackiehuang\\\\Desktop\\\\test_1\"\n",
    "    find_doc(directory)"
   ]
  },
  {
   "source": [
    "## .docx 批量轉 .pdf"
   ],
   "cell_type": "markdown",
   "metadata": {}
  },
  {
   "cell_type": "code",
   "execution_count": 91,
   "metadata": {},
   "outputs": [],
   "source": [
    "from win32com.client import Dispatch\n",
    "from os import walk\n",
    "\n",
    "def doc2pdf(input_file):\n",
    "    word = Dispatch('Word.Application')\n",
    "    doc = word.Documents.Open(input_file)\n",
    "    doc.SaveAs(input_file.replace(\".docx\", \".pdf\"),FileFormat=17)\n",
    "    doc.Close()\n",
    "    word.Quit()\n",
    "\n",
    "def find_doc(path):\n",
    "    for root, dirs, filenames in walk(path):\n",
    "        for filename in filenames:\n",
    "            if filename.endswith(\".docx\"):\n",
    "                doc2pdf(str(root + \"\\\\\" + filename))\n",
    "\n",
    "if __name__ == \"__main__\":\n",
    "    directory = \"C:\\\\Users\\\\jackiehuang\\\\Desktop\\\\test_1\"\n",
    "    find_doc(directory)"
   ]
  },
  {
   "source": [
    "### playground"
   ],
   "cell_type": "markdown",
   "metadata": {}
  },
  {
   "cell_type": "code",
   "execution_count": 12,
   "metadata": {},
   "outputs": [],
   "source": [
    "import docx\n",
    "from docx.shared import Inches\n",
    "doc=docx.Document('C:\\\\Users\\\\jackiehuang\\\\Desktop\\\\test_1\\\\Annex 1-11 (KN 61000-3-2)_Annex 1-12 (KN 61000-3-3)法規測試訓練.docx')\n",
    "para_sign=doc.tables[0].rows[2].cells[0].add_paragraph()\n",
    "r=para_sign.add_run()\n",
    "r.add_picture('C:\\\\Users\\\\jackiehuang\\\\Desktop\\\\test_1\\\\Tommy_Lee.png',width=Inches(1.5))\n",
    "r.add_picture('C:\\\\Users\\\\jackiehuang\\\\Desktop\\\\test_1\\\\Hao_Shu.png',width=Inches(1.5))\n",
    "r.add_picture('C:\\\\Users\\\\jackiehuang\\\\Desktop\\\\test_1\\\\Howard_Lin.png',width=Inches(1.5))\n",
    "doc.save('C:\\\\Users\\\\jackiehuang\\\\Desktop\\\\test_1\\\\test.docx')"
   ]
  },
  {
   "cell_type": "code",
   "execution_count": null,
   "metadata": {},
   "outputs": [],
   "source": []
  }
 ]
}