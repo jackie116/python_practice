{
 "cells": [
  {
   "cell_type": "code",
   "execution_count": 86,
   "source": [
    "import sys\r\n",
    "import os\r\n",
    "import logging\r\n",
    "from docx import Document\r\n",
    "from docx.shared import Cm\r\n",
    "from win32com import client\r\n",
    "\r\n",
    "FORMAT = '%(asctime)s %(levelname)s: %(message)s'\r\n",
    "logging.basicConfig(level=logging.DEBUG, filename='myLog.log', filemode='w', format=FORMAT)"
   ],
   "outputs": [],
   "metadata": {}
  },
  {
   "cell_type": "code",
   "execution_count": 87,
   "source": [
    "class Word:\r\n",
    "    \r\n",
    "    def set_ext(self, ext):\r\n",
    "        self.ext = ext\r\n",
    "    \r\n",
    "    def get_document(self, dir_path):\r\n",
    "        try:\r\n",
    "            doc_list = [os.path.join(root, filesname) \\\r\n",
    "                        for root, dirs, files in os.walk(dir_path) for filesname in files \\\r\n",
    "                        if os.path.splitext(filesname)[1] == self.ext]\r\n",
    "            return doc_list\r\n",
    "        except:\r\n",
    "            logging.exception('get_document : catch an exception.')\r\n",
    "    \r\n",
    "    def doc_to_docx(self, file):\r\n",
    "        word = client.Dispatch(\"Word.Application\")\r\n",
    "        doc = word.Documents.Open(file)\r\n",
    "        doc.SaveAs(\"{}x\".format(file),12)\r\n",
    "        doc.Close()\r\n",
    "        word.Quit()"
   ],
   "outputs": [],
   "metadata": {}
  },
  {
   "cell_type": "code",
   "execution_count": 90,
   "source": [
    "#插入圖片到指定位子\r\n",
    "test.set_ext('.docx')\r\n",
    "doc_list = test.get_document(file_path)\r\n",
    "for path in doc_list:\r\n",
    "    print(path)\r\n",
    "    doc = Document(path)\r\n",
    "    cell = doc.tables[0].rows[25].cells[0]\r\n",
    "    for i, p in enumerate(cell.paragraphs):\r\n",
    "        if '' in p.text:\r\n",
    "            run = p.add_run()\r\n",
    "            picture = run.add_picture(gif_path)\r\n",
    "            picture.height = Cm(1.83)\r\n",
    "            picture.width = Cm(3.86)\r\n",
    "            break\r\n",
    "    doc.save(path)"
   ],
   "outputs": [
    {
     "output_type": "stream",
     "name": "stdout",
     "text": [
      "C:\\Users\\jackiehuang\\Desktop\\新增資料夾\\TH03-HY(NR)日常作業檢查表_01.docx\n"
     ]
    }
   ],
   "metadata": {}
  }
 ],
 "metadata": {
  "orig_nbformat": 4,
  "language_info": {
   "name": "python",
   "version": "3.8.5",
   "mimetype": "text/x-python",
   "codemirror_mode": {
    "name": "ipython",
    "version": 3
   },
   "pygments_lexer": "ipython3",
   "nbconvert_exporter": "python",
   "file_extension": ".py"
  },
  "kernelspec": {
   "name": "python3",
   "display_name": "Python 3.8.5 64-bit"
  },
  "interpreter": {
   "hash": "ce9780a978816849575f40033ae16cdfc42a2d5fb6d6da3287ae97a2640979a0"
  }
 },
 "nbformat": 4,
 "nbformat_minor": 2
}