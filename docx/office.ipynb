{
 "metadata": {
  "language_info": {
   "codemirror_mode": {
    "name": "ipython",
    "version": 3
   },
   "file_extension": ".py",
   "mimetype": "text/x-python",
   "name": "python",
   "nbconvert_exporter": "python",
   "pygments_lexer": "ipython3",
   "version": "3.8.3-final"
  },
  "orig_nbformat": 2,
  "kernelspec": {
   "name": "python3",
   "display_name": "Python 3",
   "language": "python"
  }
 },
 "nbformat": 4,
 "nbformat_minor": 2,
 "cells": [
  {
   "source": [
    "# 計算word paragraphs，並印出"
   ],
   "cell_type": "markdown",
   "metadata": {}
  },
  {
   "cell_type": "code",
   "execution_count": null,
   "metadata": {},
   "outputs": [],
   "source": [
    "import docx\n",
    "Doc = docx.Document(r\"C:\\Users\\jackiehuang\\Desktop\\python\\docx\\test_1.docx\")\n",
    "\n",
    "print(\"檔案內含段落數：\",len(Doc.paragraphs),\"\\n\")\n",
    "\n",
    "testList = []\n",
    "for text in Doc.paragraphs:\n",
    "    testList.append(text)\n",
    "\n",
    "for pg in testList:\n",
    "    print(pg.text)"
   ]
  },
  {
   "source": [
    "# python-docx範例word"
   ],
   "cell_type": "markdown",
   "metadata": {}
  },
  {
   "cell_type": "code",
   "execution_count": null,
   "metadata": {},
   "outputs": [],
   "source": [
    "from docx import Document\n",
    "from docx.shared import Inches\n",
    "\n",
    "document = Document()\n",
    "\n",
    "document.add_heading('Document Title', 0)\n",
    "\n",
    "p = document.add_paragraph('A plain paragraph having some ')\n",
    "p.add_run('bold').bold = True\n",
    "p.add_run(' and some ')\n",
    "p.add_run('italic.').italic = True\n",
    "\n",
    "document.add_heading('Heading, level 1', level=1)\n",
    "document.add_paragraph('Intense quote', style='Intense Quote')\n",
    "\n",
    "document.add_paragraph(\n",
    "    'first item in unordered list', style='List Bullet'\n",
    ")\n",
    "document.add_paragraph(\n",
    "    'first item in ordered list', style='List Number'\n",
    ")\n",
    "\n",
    "document.add_picture('lena.png', width=Inches(1.25))\n",
    "\n",
    "records = (\n",
    "    (3, '101', 'Spam'),\n",
    "    (7, '422', 'Eggs'),\n",
    "    (4, '631', 'Spam, spam, eggs, and spam')\n",
    ")\n",
    "\n",
    "table = document.add_table(rows=1, cols=3)\n",
    "hdr_cells = table.rows[0].cells\n",
    "hdr_cells[0].text = 'Qty'\n",
    "hdr_cells[1].text = 'Id'\n",
    "hdr_cells[2].text = 'Desc'\n",
    "for qty, id, desc in records:\n",
    "    row_cells = table.add_row().cells\n",
    "    row_cells[0].text = str(qty)\n",
    "    row_cells[1].text = id\n",
    "    row_cells[2].text = desc\n",
    "\n",
    "document.add_page_break()\n",
    "\n",
    "document.save('test_2.docx')"
   ]
  },
  {
   "source": [
    "# Excel 表格轉為word表格"
   ],
   "cell_type": "markdown",
   "metadata": {}
  },
  {
   "cell_type": "code",
   "execution_count": null,
   "metadata": {},
   "outputs": [],
   "source": [
    "import docx\n",
    "import openpyxl\n",
    "import random\n",
    "from docx.oxml.ns import qn\n",
    "from docx.shared import Pt, RGBColor\n",
    "from win32com.client import Dispatch\n",
    "\n",
    "'''\n",
    "如果excel資料表中有代公式，處理前要先用win32com開啟儲存一次，\n",
    "不然load_workbook(..., data_only=True) 讀出結果會是None或計算好的值，\n",
    "後面save()會儲存值，公式會消失。\n",
    "data_only=False 則只會顯示公式跟儲存公式\n",
    "'''\n",
    "xlApp = Dispatch(\"Excel.Application\")\n",
    "xlApp.Visible = False\n",
    "#要放絕對路徑，前面+r\n",
    "xlBook = xlApp.Workbooks.Open(r\"C:\\Users\\jackiehuang\\Desktop\\python\\docx\\test_3.xlsx\")\n",
    "xlBook.Save()\n",
    "xlBook.Close()\n",
    "\n",
    "wb=openpyxl.load_workbook(\"test_3.xlsx\", data_only=False)\n",
    "sheet=wb[\"工作表1\"]\n",
    "doc=docx.Document()\n",
    "\n",
    "maxrow=sheet.max_row\n",
    "maxcol=sheet.max_column\n",
    "\n",
    "table=doc.add_table(rows=maxrow,cols=maxcol, style = 'Table Grid')\n",
    "for i in range(maxrow):\n",
    "    for j in range(maxcol):\n",
    "        run = table.cell(i,j).paragraphs[0].add_run(str(sheet.cell(i+1,j+1).value))\n",
    "        run.font.color.rgb = RGBColor(int(random.random() * 255), int(random.random() * 255), int(random.random() * 255))\n",
    "\n",
    "wb.save(\"test_3.xlsx\")\n",
    "doc.save(\"test_3.docx\")"
   ]
  },
  {
   "source": [
    "# Excel 畫圖"
   ],
   "cell_type": "markdown",
   "metadata": {}
  },
  {
   "cell_type": "code",
   "execution_count": null,
   "metadata": {},
   "outputs": [],
   "source": [
    "import openpyxl\n",
    "from openpyxl.chart import BarChart, Series, Reference\n",
    "\n",
    "wb=openpyxl.load_workbook(\"test_3.xlsx\")\n",
    "sheet=wb[\"工作表1\"]\n",
    "\n",
    "result=openpyxl.Workbook()\n",
    "result.create_sheet(index=0,title=\"工資圖表\")\n",
    "test=result[\"工資圖表\"]\n",
    "\n",
    "maxrow=sheet.max_row\n",
    "test.cell(row=1, column=1).value = sheet.cell(row=1, column=2).value\n",
    "test.cell(row=1, column=2).value = sheet.cell(row=1, column=6).value\n",
    "for i in range(2,maxrow+1):\n",
    "    test.cell(row=i,column=1).value=sheet.cell(row=i,column=2).value\n",
    "    test.cell(row=i, column=2).value = float(sheet.cell(row=i, column=6).value)\n",
    "\n",
    "\n",
    "chart1 = BarChart()\n",
    "chart1.type = \"col\"\n",
    "chart1.style = 10\n",
    "chart1.title = \"工資圖表\"\n",
    "chart1.y_axis.title = '工資'\n",
    "chart1.x_axis.title = '姓名'\n",
    "data = Reference(test, min_col=2, max_col=2,min_row=1, max_row=maxrow) # 条形图中的数字数据（看见的矩形）\n",
    "cats = Reference(test, min_col=1, min_row=2, max_row=maxrow) # 横坐标上的姓名\n",
    "chart1.add_data(data, titles_from_data=True)\n",
    "chart1.set_categories(cats)\n",
    "chart1.shape = 4\n",
    "\n",
    "test.add_chart(chart1, \"A10\")\n",
    "\n",
    "\n",
    "wb.save(\"test_3.xlsx\")\n",
    "result.save(\"test_4.xlsx\")"
   ]
  },
  {
   "source": [
    "# 比較excel表格是否相同"
   ],
   "cell_type": "markdown",
   "metadata": {}
  },
  {
   "cell_type": "code",
   "execution_count": null,
   "metadata": {},
   "outputs": [],
   "source": [
    "import pandas as pd\n",
    "import numpy as np\n",
    "df1 = pd.read_excel('test_5a.xlsx')\n",
    "df2 = pd.read_excel('test_5b.xlsx')\n",
    "comparison_values = df1.values == df2.values\n",
    "print(comparison_values)"
   ]
  },
  {
   "cell_type": "code",
   "execution_count": null,
   "metadata": {},
   "outputs": [],
   "source": []
  }
 ]
}