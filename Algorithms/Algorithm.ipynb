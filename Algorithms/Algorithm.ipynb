{
 "metadata": {
  "language_info": {
   "codemirror_mode": {
    "name": "ipython",
    "version": 3
   },
   "file_extension": ".py",
   "mimetype": "text/x-python",
   "name": "python",
   "nbconvert_exporter": "python",
   "pygments_lexer": "ipython3",
   "version": "3.8.3-final"
  },
  "orig_nbformat": 2,
  "kernelspec": {
   "name": "python3",
   "display_name": "Python 3"
  }
 },
 "nbformat": 4,
 "nbformat_minor": 2,
 "cells": [
  {
   "source": [
    "# Fizz-Buzz Game"
   ],
   "cell_type": "markdown",
   "metadata": {}
  },
  {
   "cell_type": "code",
   "execution_count": null,
   "metadata": {},
   "outputs": [],
   "source": [
    "#Fizz-Buzz Game\n",
    "for i in range(1,101):\n",
    "  if i%15==0:\n",
    "      print(\"Fizz-Buzz\")\n",
    "  elif i%3==0:\n",
    "      print(\"Fizz\")\n",
    "  elif i%5==0:\n",
    "      print(\"Buzz\")\n",
    "  else:\n",
    "      print(i)"
   ]
  },
  {
   "source": [
    "# Binary Search Tree"
   ],
   "cell_type": "markdown",
   "metadata": {}
  },
  {
   "cell_type": "code",
   "execution_count": 2,
   "metadata": {},
   "outputs": [],
   "source": [
    "class Node(object):\n",
    "    def __init__(self, val):\n",
    "        self.l_child = None\n",
    "        self.r_child = None\n",
    "        self.val = val\n",
    "\n",
    "class BinarySearchTree(object):\n",
    "    def insert(self, root, node):\n",
    "        if root is None:\n",
    "            return node\n",
    "        \n",
    "        if root.val < node.val:\n",
    "            root.r_child = self.insert(root.r_child, node)\n",
    "        else:\n",
    "            root.l_child = self.insert(root.l_child, node)\n",
    "        \n",
    "        return root\n",
    "    \n",
    "    def in_order_place(self,root):\n",
    "        if not root:\n",
    "            return None\n",
    "        else:\n",
    "            self.in_order_place(root.l_child)\n",
    "            print(root.val)\n",
    "            self.in_order_place(root.r_child)\n",
    "\n",
    "    def pre_order_place(self, root):\n",
    "        if not root:\n",
    "            return None\n",
    "        else:\n",
    "            print(root.val)\n",
    "            self.pre_order_place(root.l_child)\n",
    "            self.pre_order_place(root.r_child)\n",
    "    \n",
    "    def post_order_place(self, root):\n",
    "        if not root:\n",
    "            return None\n",
    "        else:\n",
    "            self.post_order_place(root.l_child)\n",
    "            self.post_order_place(root.r_child)\n",
    "            print(root.val)"
   ]
  },
  {
   "cell_type": "code",
   "execution_count": 3,
   "metadata": {},
   "outputs": [
    {
     "output_type": "stream",
     "name": "stdout",
     "text": [
      "------In order ---------\n1\n3\n5\n6\n7\n8\n8\n12\n14\n15\n16\nNone\n------Pre order ---------\n3\n1\n8\n5\n6\n7\n8\n12\n14\n15\n16\nNone\n------Post order ---------\n1\n8\n7\n6\n5\n16\n15\n14\n12\n8\n3\nNone\n"
     ]
    }
   ],
   "source": [
    "r = Node(3)\n",
    "node = BinarySearchTree()\n",
    "nodeList = [1, 8, 5, 12, 14, 6, 15, 7, 16, 8]\n",
    "for nd in nodeList:\n",
    " node.insert(r, Node(nd))\n",
    "print(\"------In order ---------\")\n",
    "print(node.in_order_place(r))\n",
    "print(\"------Pre order ---------\")\n",
    "print(node.pre_order_place(r))\n",
    "print(\"------Post order ---------\")\n",
    "print(node.post_order_place(r))"
   ]
  },
  {
   "cell_type": "code",
   "execution_count": null,
   "metadata": {},
   "outputs": [],
   "source": []
  }
 ]
}