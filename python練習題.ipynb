{
 "metadata": {
  "language_info": {
   "codemirror_mode": {
    "name": "ipython",
    "version": 3
   },
   "file_extension": ".py",
   "mimetype": "text/x-python",
   "name": "python",
   "nbconvert_exporter": "python",
   "pygments_lexer": "ipython3",
   "version": "3.8.5-final"
  },
  "orig_nbformat": 2,
  "kernelspec": {
   "name": "Python 3.8.5 32-bit",
   "display_name": "Python 3.8.5 32-bit",
   "metadata": {
    "interpreter": {
     "hash": "2ec4dbb89c2357ba3070850d0d05a1c6e4c340381c7e77478e8d14b633bca211"
    }
   }
  }
 },
 "nbformat": 4,
 "nbformat_minor": 2,
 "cells": [
  {
   "cell_type": "markdown",
   "metadata": {},
   "source": [
    "### 數字求和"
   ]
  },
  {
   "cell_type": "code",
   "execution_count": null,
   "metadata": {
    "tags": []
   },
   "outputs": [],
   "source": [
    "a=input('輸入第一個數字:')\n",
    "b=input('輸入第二個數字:')\n",
    "\n",
    "sum=float(a)+float(b)\n",
    "print(f'{a}和{b}之和為:{sum}')"
   ]
  },
  {
   "cell_type": "markdown",
   "metadata": {},
   "source": [
    "### 平方根"
   ]
  },
  {
   "cell_type": "code",
   "execution_count": null,
   "metadata": {
    "tags": []
   },
   "outputs": [],
   "source": [
    "a=float(input('輸入要求平方根之數:'))\n",
    "sqrt_a= a**0.5\n",
    "print(f'{a}之平方根為{sqrt_a}')"
   ]
  },
  {
   "cell_type": "code",
   "execution_count": null,
   "metadata": {
    "tags": []
   },
   "outputs": [],
   "source": [
    "from cmath import sqrt\n",
    "a=float(input('輸入要求平方根之數:'))\n",
    "sqrt_a= sqrt(a)\n",
    "print(f'{a}之平方根為{sqrt_a}')"
   ]
  },
  {
   "cell_type": "markdown",
   "metadata": {},
   "source": [
    "### 一元二次方程式"
   ]
  },
  {
   "cell_type": "code",
   "execution_count": null,
   "metadata": {
    "tags": []
   },
   "outputs": [],
   "source": [
    "# ax^2+bx+c=0\n",
    "from cmath import sqrt\n",
    "a=float(input('a:'))\n",
    "b=float(input('b:'))\n",
    "c=float(input('c:'))\n",
    "\n",
    "d=b**2-4*a*c\n",
    "sol_1=(-b+sqrt(d))/(2*a)\n",
    "sol_2=(-b-sqrt(d))/(2*a)\n",
    "print(f'sol:{sol_1}和{sol_2}')"
   ]
  },
  {
   "cell_type": "markdown",
   "metadata": {},
   "source": [
    "### 三角形面積\n",
    "math是數字運算，cmath是複數"
   ]
  },
  {
   "cell_type": "code",
   "execution_count": null,
   "metadata": {
    "tags": []
   },
   "outputs": [],
   "source": [
    "#海倫公式 sqrt(s*(s-a)*(s-b)*(s-c))\n",
    "#s=(a+b+c)/2 半周長\n",
    "from math import sqrt\n",
    "\n",
    "a=float(input('邊長a:'))\n",
    "b=float(input('邊長b:'))\n",
    "c=float(input('邊長c:'))\n",
    "if a+b>c and a+c>b and b+c>a:\n",
    "    s=(a+b+c)/2\n",
    "    area=sqrt(s*(s-a)*(s-b)*(s-c))\n",
    "    print(f'三角形面積為:{area}')\n",
    "else:\n",
    "    print('此三邊無法形成三角形')"
   ]
  },
  {
   "cell_type": "markdown",
   "metadata": {},
   "source": [
    "### 園面積"
   ]
  },
  {
   "cell_type": "code",
   "execution_count": null,
   "metadata": {
    "tags": []
   },
   "outputs": [],
   "source": [
    "from math import pi\n",
    "\n",
    "def circle_area(r):\n",
    "    return pi*r*r\n",
    "\n",
    "r=float(input('輸入半徑:'))\n",
    "output=circle_area(r)\n",
    "print(f'園面積為:{output}')"
   ]
  },
  {
   "cell_type": "markdown",
   "metadata": {},
   "source": [
    "### 隨機數"
   ]
  },
  {
   "cell_type": "code",
   "execution_count": null,
   "metadata": {
    "tags": []
   },
   "outputs": [],
   "source": [
    "import random\n",
    "print(random.randint(0,9))"
   ]
  },
  {
   "source": [
    "### 攝氏轉華式"
   ],
   "cell_type": "markdown",
   "metadata": {}
  },
  {
   "cell_type": "code",
   "execution_count": null,
   "metadata": {
    "tags": []
   },
   "outputs": [],
   "source": [
    "def Celsius_to_Fahrenheit(Celsius):\n",
    "    return Celsius*(9/5)+32\n",
    "\n",
    "Celsius=float(input('輸入攝氏溫度:'))\n",
    "Fahrenheit=Celsius_to_Fahrenheit(Celsius)\n",
    "print(f'攝氏{Celsius}度轉為華氏溫度為{Fahrenheit}度')"
   ]
  },
  {
   "source": [
    "### 階乘 (factorial)"
   ],
   "cell_type": "markdown",
   "metadata": {}
  },
  {
   "cell_type": "code",
   "execution_count": null,
   "metadata": {},
   "outputs": [],
   "source": [
    "def factorial(n):\n",
    "    output = 1\n",
    "    for i in range(1,n+1):\n",
    "        output *= i\n",
    "    return output"
   ]
  },
  {
   "source": [
    "math 內建函式"
   ],
   "cell_type": "markdown",
   "metadata": {}
  },
  {
   "cell_type": "code",
   "execution_count": null,
   "metadata": {},
   "outputs": [],
   "source": [
    "import math\n",
    "\n",
    "math.factorial(10)"
   ]
  },
  {
   "source": [
    "### 排列組合\n",
    "\n",
    "組合 (combination)"
   ],
   "cell_type": "markdown",
   "metadata": {}
  },
  {
   "cell_type": "code",
   "execution_count": null,
   "metadata": {},
   "outputs": [],
   "source": [
    "#C(n,m)\n",
    "def combination(n,m):\n",
    "    return factorial(n)/(factorial(m)*factorial(n-m))\n",
    "    \n",
    "\n",
    "def permutation(n,m):\n",
    "    return factorial(n)/factorial(n-m)"
   ]
  },
  {
   "cell_type": "code",
   "execution_count": null,
   "metadata": {},
   "outputs": [],
   "source": [
    "def combination_DP(n,m):\n",
    "    "
   ]
  },
  {
   "source": [
    "### m*n 的網格，從左上走到右下的不同路徑數(一步只能向下或向右一格)"
   ],
   "cell_type": "markdown",
   "metadata": {}
  },
  {
   "cell_type": "code",
   "execution_count": null,
   "metadata": {},
   "outputs": [],
   "source": [
    "def unique_path(m,n):\n",
    "    return combination(m+n-2,n-1)"
   ]
  },
  {
   "source": [
    "### 費式數列 (Fibonacci Numbers) by Dynamic Programming"
   ],
   "cell_type": "markdown",
   "metadata": {}
  },
  {
   "cell_type": "code",
   "execution_count": null,
   "metadata": {},
   "outputs": [],
   "source": [
    "def fibonacci(n):\n",
    "    F = {}\n",
    "    F[0], F[1]=0, 1\n",
    "    for i in range(2,n+1):\n",
    "        F[i]=F[i-1]+F[i-2]\n",
    "    return F[n]"
   ]
  },
  {
   "source": [
    " Coin Change\n",
    " https://leetcode.com/problems/coin-change/"
   ],
   "cell_type": "markdown",
   "metadata": {}
  },
  {
   "source": [
    "### 生成日歷"
   ],
   "cell_type": "markdown",
   "metadata": {}
  },
  {
   "cell_type": "code",
   "execution_count": null,
   "metadata": {
    "tags": []
   },
   "outputs": [],
   "source": [
    "import calendar\n",
    "\n",
    "year=int(input(\"年:\"))\n",
    "month=int(input(\"月:\"))\n",
    "\n",
    "print(calendar.month(year,month))"
   ]
  },
  {
   "source": [
    "### 約瑟夫生者死者小遊戲\n",
    "30人在船上，超載需15人下船，  \n",
    "排成一列，從1開始報數，  \n",
    "報到9的下船，循環到15人下船"
   ],
   "cell_type": "markdown",
   "metadata": {}
  },
  {
   "cell_type": "code",
   "execution_count": null,
   "metadata": {
    "tags": []
   },
   "outputs": [],
   "source": [
    "living=list(range(1,31))\n",
    "while len(living)>15:\n",
    "    count=0\n",
    "    while count<9:\n",
    "        count+=1\n",
    "        if count==9:\n",
    "            jump=living.pop(0)\n",
    "            print(f'{jump}號跳船了')\n",
    "        else:\n",
    "            living.append(living.pop(0))"
   ]
  },
  {
   "source": [
    "### 五人分魚\n",
    "A,B,C,D,E五人一起捕魚，補完各自去睡覺，  \n",
    "依序醒來後都把魚分成五份，丟掉多的一條，  \n",
    "拿走其中一份，請問他們至少補了多少魚?"
   ],
   "cell_type": "markdown",
   "metadata": {}
  },
  {
   "cell_type": "code",
   "execution_count": null,
   "metadata": {
    "tags": []
   },
   "outputs": [],
   "source": [
    "#假設E最後只拿了一條魚\n",
    "fish=1\n",
    "while True:\n",
    "    total, enough=fish,True\n",
    "    for _ in range(5):\n",
    "        if(total-1)%5==0:\n",
    "            total=(total-1)//5*4\n",
    "        else:\n",
    "            enough=False\n",
    "            break\n",
    "    if enough:\n",
    "        print(f'至少{fish}條')\n",
    "        break\n",
    "    fish+=1"
   ]
  },
  {
   "cell_type": "code",
   "execution_count": null,
   "metadata": {},
   "outputs": [],
   "source": [
    "#可得出規律\n",
    "n**n-(n-1)"
   ]
  },
  {
   "source": [
    "### 數組翻轉\n"
   ],
   "cell_type": "markdown",
   "metadata": {}
  },
  {
   "cell_type": "code",
   "execution_count": null,
   "metadata": {
    "tags": []
   },
   "outputs": [],
   "source": [
    "def left_rotate(arr,d):\n",
    "    for _ in range(d):\n",
    "        arr.append(arr.pop(0))\n",
    "\n",
    "arr=[1,2,3,4,5,6,7]\n",
    "left_rotate(arr,2)\n",
    "print(arr)"
   ]
  },
  {
   "source": [
    "### 二分搜尋法(遞迴)"
   ],
   "cell_type": "markdown",
   "metadata": {}
  },
  {
   "cell_type": "code",
   "execution_count": null,
   "metadata": {
    "tags": []
   },
   "outputs": [],
   "source": [
    "from math import ceil\n",
    "def binary_search_recursive(search_list,target,L,R):\n",
    "    while R >= L:\n",
    "        middle=ceil(L+(R-L)/2)\n",
    "        if target==search_list[middle]:\n",
    "            return middle\n",
    "        elif target > search_list[middle]:\n",
    "            return binary_search_recursive(search_list,target,middle+1,R)\n",
    "        else:\n",
    "            return binary_search_recursive(search_list,target,L,middle-1)\n",
    "    else:\n",
    "        return 'Not found'\n",
    "\n",
    "if __name__==\"__main__\":\n",
    "    arr=[2,3,4,10,40]\n",
    "    print(binary_search_recursive(arr,10,0,len(arr)-1))"
   ]
  },
  {
   "source": [
    "### 線性搜尋"
   ],
   "cell_type": "markdown",
   "metadata": {}
  },
  {
   "cell_type": "code",
   "execution_count": null,
   "metadata": {
    "tags": []
   },
   "outputs": [],
   "source": [
    "def linear_search(search_arr,target):\n",
    "    for i in range(len(search_arr)):\n",
    "        if search_arr[i]==target:\n",
    "            return i;\n",
    "    return 'Not found'\n",
    "\n",
    "if __name__==\"__main__\":\n",
    "    arr=[2,3,4,10,40]\n",
    "    print(linear_search(arr,3))"
   ]
  },
  {
   "source": [
    "### 插入排序法(insertion sort)\n",
    "通過構建有序序列，對於未排序資料，在已排序序列中從後向前掃描，找到相應位置並插入。 平均:O(n**2)\n"
   ],
   "cell_type": "markdown",
   "metadata": {}
  },
  {
   "cell_type": "code",
   "execution_count": null,
   "metadata": {
    "tags": []
   },
   "outputs": [],
   "source": [
    "def insertion_sort(arr):\n",
    "    for i in range(1,len(arr)):\n",
    "        target=arr[i]\n",
    "        j=i-1\n",
    "        while target<arr[j] and j>=0:\n",
    "            arr[j+1]=arr[j]\n",
    "            j -= 1\n",
    "        arr[j+1]=target\n",
    "\n",
    "arr=[12,11,13,5,6]\n",
    "insertion_sort(arr)\n",
    "print(arr)"
   ]
  },
  {
   "source": [
    "### 快速排序法(Quick sort)\n",
    "Divide and Conquer，平均:O(nlogn)  \n",
    "在數列中任意挑選一個數，稱為pivot，然後調整數列，使得「所有在pivot左邊的數，都比pivot還小」，而「在pivot右邊的數都比pivot大」。  \n",
    "接著，將所有在pivot左邊的數視為「新的數列」，所有在pivot右邊的數視為「另一個新的數列」，「分別」重複上述步驟(選pivot、調整數列)，直到分不出「新的數列」為止。"
   ],
   "cell_type": "markdown",
   "metadata": {}
  },
  {
   "cell_type": "code",
   "execution_count": null,
   "metadata": {
    "tags": []
   },
   "outputs": [],
   "source": [
    "def partition(arr,left,right):\n",
    "    pivot=arr[left]\n",
    "    l,r=left,right\n",
    "    while l<r:\n",
    "        while arr[r]>=pivot and r>left:\n",
    "            r-=1\n",
    "        while arr[l]<=pivot and l<right:\n",
    "            l+=1\n",
    "        if l>=r:\n",
    "            arr[left],arr[r]=arr[r],arr[left]\n",
    "        else:\n",
    "            arr[l],arr[r]=arr[r],arr[l]\n",
    "    return r\n",
    "\n",
    "def quick_sort(arr,left,right):\n",
    "    if left<right:\n",
    "        p=partition(arr,left,right)\n",
    "        quick_sort(arr,left,p-1)\n",
    "        quick_sort(arr,p+1,right)\n",
    "\n",
    "arr = [10,32,98,80,20,79,93,58,88,10,40,53,94,61,75]  \n",
    "quick_sort(arr,0,len(arr)-1)\n",
    "print(arr) "
   ]
  },
  {
   "source": [
    "### 選擇排序法(Selection Sort)\n",
    "從「未排序好的數字」中找到最小值，  \n",
    "把最小值丟到「未排序好的數字」的最左邊，把它標示成已排序好。  \n",
    "平均:O(n**2)"
   ],
   "cell_type": "markdown",
   "metadata": {}
  },
  {
   "cell_type": "code",
   "execution_count": null,
   "metadata": {
    "tags": []
   },
   "outputs": [],
   "source": [
    "def selection_sort(arr):\n",
    "    for i in range(len(arr)):\n",
    "        index=i+arr[i:].index(min(arr[i:]))\n",
    "        arr[i],arr[index]=arr[index],arr[i]   \n",
    "\n",
    "arr = [100,46,63,61,14,71,61,78,65,94,43,79,2,57,75]  \n",
    "selection_sort(arr)\n",
    "print(arr)"
   ]
  },
  {
   "source": [
    "### 泡沫排序法(Bubble sort)\n",
    "它重複地走訪過要排序的數列，一次比較兩個元素，如果他們的順序錯誤就把他們交換過來  \n",
    "平均:O(n**2)"
   ],
   "cell_type": "markdown",
   "metadata": {}
  },
  {
   "cell_type": "code",
   "execution_count": 121,
   "metadata": {
    "tags": []
   },
   "outputs": [
    {
     "output_type": "stream",
     "name": "stdout",
     "text": "[8, 15, 17, 20, 22, 29, 31, 37, 47, 55, 56, 70, 76, 81, 83]\n"
    }
   ],
   "source": [
    "def bubble_sort(arr):\n",
    "    n=len(arr)\n",
    "    for i in range(n):\n",
    "        for j in range(n-i-1):\n",
    "            if arr[j] > arr[j+1]:\n",
    "                arr[j],arr[j+1]=arr[j+1],arr[j]\n",
    "\n",
    "arr = [70,83,55,29,20,31,22,56,15,81,47,76,17,8,37]  \n",
    "selection_sort(arr)\n",
    "print(arr)         "
   ]
  },
  {
   "source": [
    "### 合併排序法(Merge Sort)\n",
    "Divide and Conquer，平均:O(nlogn)  \n",
    "分割：遞迴地把當前序列平均分割成兩半。\n",
    "整合：在保持元素順序的同時將上一步得到的子序列整合到一起（合併）。"
   ],
   "cell_type": "markdown",
   "metadata": {}
  }
 ]
}