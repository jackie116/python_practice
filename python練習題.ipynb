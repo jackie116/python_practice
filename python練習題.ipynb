{
 "metadata": {
  "language_info": {
   "codemirror_mode": {
    "name": "ipython",
    "version": 3
   },
   "file_extension": ".py",
   "mimetype": "text/x-python",
   "name": "python",
   "nbconvert_exporter": "python",
   "pygments_lexer": "ipython3",
   "version": "3.8.5-final"
  },
  "orig_nbformat": 2,
  "kernelspec": {
   "name": "Python 3.8.5 32-bit",
   "display_name": "Python 3.8.5 32-bit",
   "metadata": {
    "interpreter": {
     "hash": "2ec4dbb89c2357ba3070850d0d05a1c6e4c340381c7e77478e8d14b633bca211"
    }
   }
  }
 },
 "nbformat": 4,
 "nbformat_minor": 2,
 "cells": [
  {
   "cell_type": "markdown",
   "metadata": {},
   "source": [
    "### 數字求和"
   ]
  },
  {
   "cell_type": "code",
   "execution_count": null,
   "metadata": {
    "tags": []
   },
   "outputs": [],
   "source": [
    "a=input('輸入第一個數字:')\n",
    "b=input('輸入第二個數字:')\n",
    "\n",
    "sum=float(a)+float(b)\n",
    "print(f'{a}和{b}之和為:{sum}')"
   ]
  },
  {
   "cell_type": "markdown",
   "metadata": {},
   "source": [
    "### 平方根"
   ]
  },
  {
   "cell_type": "code",
   "execution_count": null,
   "metadata": {
    "tags": []
   },
   "outputs": [],
   "source": [
    "a=float(input('輸入要求平方根之數:'))\n",
    "sqrt_a= a**0.5\n",
    "print(f'{a}之平方根為{sqrt_a}')"
   ]
  },
  {
   "cell_type": "code",
   "execution_count": null,
   "metadata": {
    "tags": []
   },
   "outputs": [],
   "source": [
    "from cmath import sqrt\n",
    "a=float(input('輸入要求平方根之數:'))\n",
    "sqrt_a= sqrt(a)\n",
    "print(f'{a}之平方根為{sqrt_a}')"
   ]
  },
  {
   "cell_type": "markdown",
   "metadata": {},
   "source": [
    "### 一元二次方程式"
   ]
  },
  {
   "cell_type": "code",
   "execution_count": null,
   "metadata": {
    "tags": []
   },
   "outputs": [],
   "source": [
    "# ax^2+bx+c=0\n",
    "from cmath import sqrt\n",
    "a=float(input('a:'))\n",
    "b=float(input('b:'))\n",
    "c=float(input('c:'))\n",
    "\n",
    "d=b**2-4*a*c\n",
    "sol_1=(-b+sqrt(d))/(2*a)\n",
    "sol_2=(-b-sqrt(d))/(2*a)\n",
    "print(f'sol:{sol_1}和{sol_2}')"
   ]
  },
  {
   "cell_type": "markdown",
   "metadata": {},
   "source": [
    "### 三角形面積\n",
    "math是數字運算，cmath是複數"
   ]
  },
  {
   "cell_type": "code",
   "execution_count": null,
   "metadata": {
    "tags": []
   },
   "outputs": [],
   "source": [
    "#海倫公式 sqrt(s*(s-a)*(s-b)*(s-c))\n",
    "#s=(a+b+c)/2 半周長\n",
    "from math import sqrt\n",
    "\n",
    "a=float(input('邊長a:'))\n",
    "b=float(input('邊長b:'))\n",
    "c=float(input('邊長c:'))\n",
    "if a+b>c and a+c>b and b+c>a:\n",
    "    s=(a+b+c)/2\n",
    "    area=sqrt(s*(s-a)*(s-b)*(s-c))\n",
    "    print(f'三角形面積為:{area}')\n",
    "else:\n",
    "    print('此三邊無法形成三角形')"
   ]
  },
  {
   "cell_type": "markdown",
   "metadata": {},
   "source": [
    "### 園面積"
   ]
  },
  {
   "cell_type": "code",
   "execution_count": null,
   "metadata": {
    "tags": []
   },
   "outputs": [],
   "source": [
    "from math import pi\n",
    "\n",
    "def circle_area(r):\n",
    "    return pi*r*r\n",
    "\n",
    "r=float(input('輸入半徑:'))\n",
    "output=circle_area(r)\n",
    "print(f'園面積為:{output}')"
   ]
  },
  {
   "cell_type": "markdown",
   "metadata": {},
   "source": [
    "### 隨機數"
   ]
  },
  {
   "cell_type": "code",
   "execution_count": null,
   "metadata": {
    "tags": []
   },
   "outputs": [],
   "source": [
    "import random\n",
    "print(random.randint(0,9))"
   ]
  },
  {
   "source": [
    "### 攝氏轉華式"
   ],
   "cell_type": "markdown",
   "metadata": {}
  },
  {
   "cell_type": "code",
   "execution_count": null,
   "metadata": {
    "tags": []
   },
   "outputs": [],
   "source": [
    "def Celsius_to_Fahrenheit(Celsius):\n",
    "    return Celsius*(9/5)+32\n",
    "\n",
    "Celsius=float(input('輸入攝氏溫度:'))\n",
    "Fahrenheit=Celsius_to_Fahrenheit(Celsius)\n",
    "print(f'攝氏{Celsius}度轉為華氏溫度為{Fahrenheit}度')"
   ]
  },
  {
   "source": [
    "### 階乘 (factorial)"
   ],
   "cell_type": "markdown",
   "metadata": {}
  },
  {
   "cell_type": "code",
   "execution_count": null,
   "metadata": {},
   "outputs": [],
   "source": [
    "def factorial(n):\n",
    "    output = 1\n",
    "    for i in range(1,n+1):\n",
    "        output *= i\n",
    "    return output"
   ]
  },
  {
   "source": [
    "math 內建函式"
   ],
   "cell_type": "markdown",
   "metadata": {}
  },
  {
   "cell_type": "code",
   "execution_count": null,
   "metadata": {},
   "outputs": [],
   "source": [
    "import math\n",
    "\n",
    "math.factorial(10)"
   ]
  },
  {
   "source": [
    "### 排列組合\n",
    "\n",
    "組合 (combination)"
   ],
   "cell_type": "markdown",
   "metadata": {}
  },
  {
   "cell_type": "code",
   "execution_count": null,
   "metadata": {},
   "outputs": [],
   "source": [
    "#C(n,m)\n",
    "def combination(n,m):\n",
    "    return factorial(n)/(factorial(m)*factorial(n-m))\n",
    "    \n",
    "\n",
    "def permutation(n,m):\n",
    "    return factorial(n)/factorial(n-m)"
   ]
  },
  {
   "cell_type": "code",
   "execution_count": null,
   "metadata": {},
   "outputs": [],
   "source": [
    "def combination_DP(n,m):\n",
    "    "
   ]
  },
  {
   "source": [
    "### m*n 的網格，從左上走到右下的不同路徑數(一步只能向下或向右一格)"
   ],
   "cell_type": "markdown",
   "metadata": {}
  },
  {
   "cell_type": "code",
   "execution_count": null,
   "metadata": {},
   "outputs": [],
   "source": [
    "def unique_path(m,n):\n",
    "    return combination(m+n-2,n-1)"
   ]
  },
  {
   "source": [
    "### 費式數列 (Fibonacci Numbers) by Dynamic Programming"
   ],
   "cell_type": "markdown",
   "metadata": {}
  },
  {
   "cell_type": "code",
   "execution_count": null,
   "metadata": {},
   "outputs": [],
   "source": [
    "def fibonacci(n):\n",
    "    F = {}\n",
    "    F[0], F[1]=0, 1\n",
    "    for i in range(2,n+1):\n",
    "        F[i]=F[i-1]+F[i-2]\n",
    "    return F[n]"
   ]
  },
  {
   "source": [
    " Coin Change\n",
    " https://leetcode.com/problems/coin-change/"
   ],
   "cell_type": "markdown",
   "metadata": {}
  },
  {
   "source": [
    "### 生成日歷"
   ],
   "cell_type": "markdown",
   "metadata": {}
  },
  {
   "cell_type": "code",
   "execution_count": null,
   "metadata": {
    "tags": []
   },
   "outputs": [],
   "source": [
    "import calendar\n",
    "\n",
    "year=int(input(\"年:\"))\n",
    "month=int(input(\"月:\"))\n",
    "\n",
    "print(calendar.month(year,month))"
   ]
  },
  {
   "source": [
    "### 約瑟夫生者死者小遊戲\n",
    "30人在船上，超載需15人下船，  \n",
    "排成一列，從1開始報數，  \n",
    "報到9的下船，循環到15人下船"
   ],
   "cell_type": "markdown",
   "metadata": {}
  },
  {
   "cell_type": "code",
   "execution_count": null,
   "metadata": {
    "tags": []
   },
   "outputs": [],
   "source": [
    "living=list(range(1,31))\n",
    "while len(living)>15:\n",
    "    count=0\n",
    "    while count<9:\n",
    "        count+=1\n",
    "        if count==9:\n",
    "            jump=living.pop(0)\n",
    "            print(f'{jump}號跳船了')\n",
    "        else:\n",
    "            living.append(living.pop(0))"
   ]
  },
  {
   "source": [
    "### 五人分魚\n",
    "A,B,C,D,E五人一起捕魚，補完各自去睡覺，  \n",
    "依序醒來後都把魚分成五份，丟掉多的一條，  \n",
    "拿走其中一份，請問他們至少補了多少魚?"
   ],
   "cell_type": "markdown",
   "metadata": {}
  },
  {
   "cell_type": "code",
   "execution_count": 41,
   "metadata": {
    "tags": []
   },
   "outputs": [
    {
     "output_type": "stream",
     "name": "stdout",
     "text": "至少3121條\n"
    }
   ],
   "source": [
    "#假設E最後只拿了一條魚\n",
    "fish=1\n",
    "while True:\n",
    "    total, enough=fish,True\n",
    "    for _ in range(5):\n",
    "        if(total-1)%5==0:\n",
    "            total=(total-1)//5*4\n",
    "        else:\n",
    "            enough=False\n",
    "            break\n",
    "    if enough:\n",
    "        print(f'至少{fish}條')\n",
    "        break\n",
    "    fish+=1"
   ]
  },
  {
   "cell_type": "code",
   "execution_count": null,
   "metadata": {},
   "outputs": [],
   "source": [
    "#可得出規律\n",
    "n**n-(n-1)"
   ]
  },
  {
   "source": [
    "### 數組翻轉\n"
   ],
   "cell_type": "markdown",
   "metadata": {}
  },
  {
   "cell_type": "code",
   "execution_count": 46,
   "metadata": {
    "tags": []
   },
   "outputs": [
    {
     "output_type": "stream",
     "name": "stdout",
     "text": "[3, 4, 5, 6, 7, 1, 2]\n"
    }
   ],
   "source": [
    "def left_rotate(arr,d):\n",
    "    for _ in range(d):\n",
    "        arr.append(arr.pop(0))\n",
    "\n",
    "arr=[1,2,3,4,5,6,7]\n",
    "left_rotate(arr,2)\n",
    "print(arr)"
   ]
  },
  {
   "source": [
    "### 二分搜尋法"
   ],
   "cell_type": "markdown",
   "metadata": {}
  },
  {
   "cell_type": "code",
   "execution_count": null,
   "metadata": {},
   "outputs": [],
   "source": []
  }
 ]
}